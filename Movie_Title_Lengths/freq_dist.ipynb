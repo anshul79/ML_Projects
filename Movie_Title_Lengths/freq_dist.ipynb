{
 "cells": [
  {
   "cell_type": "code",
   "execution_count": 3,
   "metadata": {
    "collapsed": true
   },
   "outputs": [],
   "source": [
    "import pandas as pd\n",
    "import numpy as np\n",
    "from matplotlib import pyplot as plt\n",
    "%matplotlib inline"
   ]
  },
  {
   "cell_type": "code",
   "execution_count": 4,
   "metadata": {
    "collapsed": false
   },
   "outputs": [
    {
     "name": "stdout",
     "output_type": "stream",
     "text": [
      "   color      director_name  num_critic_for_reviews  duration  \\\n",
      "0  Color      James Cameron                   723.0     178.0   \n",
      "1  Color     Gore Verbinski                   302.0     169.0   \n",
      "2  Color         Sam Mendes                   602.0     148.0   \n",
      "3  Color  Christopher Nolan                   813.0     164.0   \n",
      "4    NaN        Doug Walker                     NaN       NaN   \n",
      "\n",
      "   director_facebook_likes  actor_3_facebook_likes      actor_2_name  \\\n",
      "0                      0.0                   855.0  Joel David Moore   \n",
      "1                    563.0                  1000.0     Orlando Bloom   \n",
      "2                      0.0                   161.0      Rory Kinnear   \n",
      "3                  22000.0                 23000.0    Christian Bale   \n",
      "4                    131.0                     NaN        Rob Walker   \n",
      "\n",
      "   actor_1_facebook_likes        gross                           genres  \\\n",
      "0                  1000.0  760505847.0  Action|Adventure|Fantasy|Sci-Fi   \n",
      "1                 40000.0  309404152.0         Action|Adventure|Fantasy   \n",
      "2                 11000.0  200074175.0        Action|Adventure|Thriller   \n",
      "3                 27000.0  448130642.0                  Action|Thriller   \n",
      "4                   131.0          NaN                      Documentary   \n",
      "\n",
      "          ...          num_user_for_reviews language  country  content_rating  \\\n",
      "0         ...                        3054.0  English      USA           PG-13   \n",
      "1         ...                        1238.0  English      USA           PG-13   \n",
      "2         ...                         994.0  English       UK           PG-13   \n",
      "3         ...                        2701.0  English      USA           PG-13   \n",
      "4         ...                           NaN      NaN      NaN             NaN   \n",
      "\n",
      "        budget  title_year actor_2_facebook_likes imdb_score  aspect_ratio  \\\n",
      "0  237000000.0      2009.0                  936.0        7.9          1.78   \n",
      "1  300000000.0      2007.0                 5000.0        7.1          2.35   \n",
      "2  245000000.0      2015.0                  393.0        6.8          2.35   \n",
      "3  250000000.0      2012.0                23000.0        8.5          2.35   \n",
      "4          NaN         NaN                   12.0        7.1           NaN   \n",
      "\n",
      "  movie_facebook_likes  \n",
      "0                33000  \n",
      "1                    0  \n",
      "2                85000  \n",
      "3               164000  \n",
      "4                    0  \n",
      "\n",
      "[5 rows x 28 columns]\n"
     ]
    }
   ],
   "source": [
    "ds=pd.read_csv('./movie_metadata.csv');\n",
    "data=ds.values\n",
    "print ds.head(n=5)"
   ]
  },
  {
   "cell_type": "code",
   "execution_count": 5,
   "metadata": {
    "collapsed": false
   },
   "outputs": [
    {
     "name": "stdout",
     "output_type": "stream",
     "text": [
      "0                                                 Avatar \n",
      "1               Pirates of the Caribbean: At World's End \n",
      "2                                                Spectre \n",
      "3                                  The Dark Knight Rises \n",
      "4       Star Wars: Episode VII - The Force Awakens    ...\n",
      "5                                            John Carter \n",
      "6                                           Spider-Man 3 \n",
      "7                                                Tangled \n",
      "8                                Avengers: Age of Ultron \n",
      "9                 Harry Potter and the Half-Blood Prince \n",
      "10                    Batman v Superman: Dawn of Justice \n",
      "11                                      Superman Returns \n",
      "12                                     Quantum of Solace \n",
      "13            Pirates of the Caribbean: Dead Man's Chest \n",
      "14                                       The Lone Ranger \n",
      "15                                          Man of Steel \n",
      "16              The Chronicles of Narnia: Prince Caspian \n",
      "17                                          The Avengers \n",
      "18           Pirates of the Caribbean: On Stranger Tides \n",
      "19                                        Men in Black 3 \n",
      "20             The Hobbit: The Battle of the Five Armies \n",
      "21                                The Amazing Spider-Man \n",
      "22                                            Robin Hood \n",
      "23                   The Hobbit: The Desolation of Smaug \n",
      "24                                    The Golden Compass \n",
      "25                                             King Kong \n",
      "26                                               Titanic \n",
      "27                            Captain America: Civil War \n",
      "28                                            Battleship \n",
      "29                                        Jurassic World \n",
      "                              ...                        \n",
      "5013                                              Manito \n",
      "5014                                             Rampage \n",
      "5015                                             Slacker \n",
      "5016                                         Dutch Kills \n",
      "5017                                           Dry Spell \n",
      "5018                                            Flywheel \n",
      "5019                                              Exeter \n",
      "5020                                          The Ridges \n",
      "5021                                     The Puffy Chair \n",
      "5022                                Stories of Our Lives \n",
      "5023                                    Breaking Upwards \n",
      "5024                            All Superheroes Must Die \n",
      "5025                                      Pink Flamingos \n",
      "5026                                               Clean \n",
      "5027                                          The Circle \n",
      "5028                                         Tin Can Man \n",
      "5029                                            The Cure \n",
      "5030                                      On the Downlow \n",
      "5031                        Sanctuary; Quite a Conundrum \n",
      "5032                                                Bang \n",
      "5033                                              Primer \n",
      "5034                                              Cavite \n",
      "5035                                         El Mariachi \n",
      "5036                                     The Mongol King \n",
      "5037                                           Newlyweds \n",
      "5038                             Signed Sealed Delivered \n",
      "5039                           The Following             \n",
      "5040                                A Plague So Pleasant \n",
      "5041                                    Shanghai Calling \n",
      "5042                                   My Date with Drew \n",
      "Name: movie_title, dtype: object\n"
     ]
    }
   ],
   "source": [
    "data=ds.get('movie_title');\n",
    "print data"
   ]
  },
  {
   "cell_type": "code",
   "execution_count": 6,
   "metadata": {
    "collapsed": false
   },
   "outputs": [
    {
     "name": "stdout",
     "output_type": "stream",
     "text": [
      "8 Avatar \n",
      "42 Pirates of the Caribbean: At World's End \n",
      "9 Spectre \n",
      "23 The Dark Knight Rises \n",
      "56 Star Wars: Episode VII - The Force Awakens             \n",
      "13 John Carter \n",
      "14 Spider-Man 3 \n",
      "9 Tangled \n",
      "25 Avengers: Age of Ultron \n",
      "40 Harry Potter and the Half-Blood Prince \n",
      "36 Batman v Superman: Dawn of Justice \n",
      "18 Superman Returns \n",
      "19 Quantum of Solace \n",
      "44 Pirates of the Caribbean: Dead Man's Chest \n",
      "17 The Lone Ranger \n",
      "14 Man of Steel \n",
      "42 The Chronicles of Narnia: Prince Caspian \n",
      "14 The Avengers \n",
      "45 Pirates of the Caribbean: On Stranger Tides \n",
      "16 Men in Black 3 \n",
      "43 The Hobbit: The Battle of the Five Armies \n"
     ]
    }
   ],
   "source": [
    "#Printing first 20 movie titles with lengths\n",
    "count=0\n",
    "for ix in data:\n",
    "    print len(ix),ix\n",
    "    count=count+1\n",
    "    if count>20:\n",
    "        break"
   ]
  },
  {
   "cell_type": "code",
   "execution_count": 7,
   "metadata": {
    "collapsed": false
   },
   "outputs": [
    {
     "name": "stdout",
     "output_type": "stream",
     "text": [
      "5043\n",
      "[8, 42, 9, 23, 56, 13, 14, 9, 25, 40, 36, 18, 19, 44, 17, 14, 42, 14, 45, 16, 43, 24, 12, 37, 20, 11, 9, 28, 12, 16, 9, 14, 12, 21, 23, 21, 37, 33, 27, 26, 14, 8, 15, 13, 22, 11, 13, 28, 25, 23, 18, 37, 13, 32, 52, 19, 7, 18, 9, 13, 6, 19, 19, 22, 64, 19, 17, 4, 21, 10, 6, 16, 39, 15, 15, 18, 12, 29, 12, 17, 12, 29, 12, 32, 12, 10, 37, 21, 14, 12, 16, 19, 30, 26, 36, 25, 14, 11, 21, 35, 26, 37, 20, 39, 27, 10, 33, 17, 10, 20, 58, 14, 14, 11, 43, 37, 9, 13, 35, 13, 15, 29, 48, 26, 24, 8, 21, 22, 20, 17, 6, 6, 9, 21, 14, 36, 13, 22, 11, 17, 20, 25, 18, 17, 14, 5, 23, 6, 36, 17, 14, 12, 17, 9, 17, 38, 23, 24, 18, 24, 11, 12, 28, 15, 9, 10, 17, 6, 23, 8, 35, 36, 25, 49, 43, 14, 21, 24, 9, 14, 7, 7, 24, 22, 15, 9, 33, 43, 6, 19, 13, 15, 6, 6, 26, 42, 11, 13, 10, 47, 41, 10, 39, 10, 21, 56, 46, 39, 19, 7, 9, 11, 36, 21, 14, 18, 19, 16, 32, 24, 24, 19, 40, 12, 13, 14, 33, 12, 17, 9, 27, 9, 13, 17, 16, 10, 46, 46, 16, 15, 43, 12, 30, 13, 28, 30, 9, 14, 50, 16, 21, 13, 21, 13, 16, 18, 11, 13, 20, 18, 24, 24, 12, 19, 11, 12, 14, 25, 14, 23, 51, 29, 5, 20, 10, 19, 15, 27, 13, 25, 12, 16, 23, 11, 17, 41, 15, 20, 28, 16, 19, 11, 28, 16, 16, 8, 18, 29, 26, 19, 19, 8, 27, 5, 6, 13, 13, 15, 25, 16, 19, 13, 47, 10, 10, 17, 18, 19, 13, 17, 25, 30, 12, 19, 22, 19, 19, 20, 11, 20, 17, 14, 19, 20, 23, 28, 12, 18, 14, 47, 39, 13, 25, 15, 19, 32, 27, 24, 11, 17, 18, 52, 14, 13, 13, 13, 19, 35, 32, 33, 18, 14, 7, 16, 33, 27, 17, 9, 27, 40, 10, 31, 8, 30, 21, 9, 12, 17, 32, 44, 18, 11, 10, 17, 5, 18, 9, 17, 22, 16, 21, 16, 22, 12, 9, 26, 11, 12, 22, 15, 16, 22, 20, 11, 22, 12, 16, 13, 13, 20, 18, 18, 13, 11, 20, 13, 18, 21, 39, 18, 16, 19, 15, 15, 29, 10, 32, 12, 7, 7, 11, 42, 8, 29, 8, 13, 16, 17, 21, 18, 22, 16, 16, 15, 17, 13, 7, 18, 38, 13, 11, 24, 16, 18, 8, 10, 17, 19, 17, 23, 9, 11, 15, 17, 9, 14, 11, 18, 31, 19, 6, 23, 11, 34, 11, 15, 26, 11, 22, 23, 15, 18, 18, 11, 21, 22, 14, 20, 15, 11, 10, 12, 15, 10, 27, 19, 30, 6, 10, 13, 23, 23, 12, 27, 8, 20, 9, 16, 18, 15, 34, 37, 12, 9, 15, 18, 19, 14, 38, 25, 39, 17, 18, 31, 12, 17, 7, 8, 10, 23, 16, 11, 25, 18, 16, 11, 14, 25, 16, 16, 22, 12, 12, 18, 9, 8, 18, 9, 25, 11, 15, 9, 14, 19, 11, 9, 12, 20, 9, 10, 12, 23, 13, 9, 14, 12, 8, 23, 13, 14, 13, 45, 16, 12, 9, 20, 14, 8, 14, 13, 17, 7, 9, 6, 15, 5, 42, 8, 22, 6, 10, 12, 10, 27, 13, 19, 25, 41, 18, 20, 25, 20, 10, 6, 11, 19, 11, 33, 16, 11, 10, 22, 13, 13, 6, 7, 23, 14, 12, 14, 12, 27, 11, 15, 33, 10, 39, 18, 13, 24, 22, 28, 11, 15, 13, 7, 7, 13, 11, 13, 18, 14, 21, 33, 12, 31, 13, 17, 21, 16, 17, 9, 14, 9, 12, 11, 14, 20, 17, 17, 15, 19, 10, 10, 15, 13, 14, 9, 20, 17, 14, 16, 7, 7, 16, 16, 10, 16, 28, 12, 25, 15, 28, 12, 17, 25, 13, 15, 17, 14, 9, 30, 15, 9, 34, 29, 11, 15, 12, 26, 14, 11, 7, 24, 15, 25, 19, 17, 5, 5, 18, 13, 16, 11, 16, 11, 21, 11, 24, 17, 21, 16, 8, 13, 17, 18, 6, 17, 17, 24, 19, 15, 16, 5, 18, 21, 12, 19, 11, 14, 15, 12, 11, 15, 10, 15, 13, 16, 17, 20, 9, 16, 12, 12, 10, 21, 24, 33, 12, 31, 27, 5, 19, 21, 9, 15, 17, 16, 41, 15, 16, 10, 10, 15, 11, 21, 14, 11, 20, 21, 24, 18, 11, 14, 16, 16, 13, 28, 15, 12, 25, 8, 34, 15, 14, 11, 18, 9, 17, 11, 15, 39, 11, 12, 6, 10, 12, 11, 47, 16, 45, 16, 10, 10, 17, 12, 40, 18, 36, 11, 14, 18, 33, 16, 26, 11, 30, 22, 15, 13, 18, 34, 28, 30, 14, 14, 14, 25, 18, 12, 10, 21, 7, 22, 18, 18, 12, 8, 15, 19, 14, 26, 12, 12, 16, 19, 11, 27, 19, 14, 19, 15, 20, 23, 23, 12, 9, 7, 7, 28, 12, 11, 12, 10, 14, 10, 30, 12, 16, 9, 26, 27, 11, 19, 12, 14, 21, 14, 11, 24, 8, 13, 10, 14, 20, 25, 15, 20, 13, 7, 20, 7, 11, 15, 22, 12, 22, 21, 12, 9, 11, 21, 18, 14, 12, 17, 22, 19, 15, 17, 8, 22, 18, 20, 10, 16, 29, 7, 23, 31, 15, 5, 20, 13, 35, 11, 9, 17, 30, 16, 52, 9, 22, 9, 14, 16, 12, 9, 7, 17, 9, 19, 14, 22, 10, 27, 11, 10, 10, 24, 16, 18, 25, 16, 21, 18, 32, 12, 18, 9, 10, 18, 10, 16, 11, 10, 13, 18, 18, 16, 16, 23, 27, 11, 16, 27, 35, 13, 18, 45, 11, 15, 16, 22, 30, 12, 11, 11, 19, 11, 17, 17, 10, 7, 12, 19, 18, 21, 16, 36, 21, 24, 18, 15, 18, 15, 41, 15, 13, 10, 16, 20, 11, 22, 8, 6, 7, 21, 18, 13, 16, 27, 13, 39, 9, 23, 33, 14, 9, 36, 15, 9, 20, 12, 17, 13, 10, 10, 7, 16, 11, 17, 14, 9, 14, 15, 7, 12, 25, 26, 13, 9, 22, 13, 26, 23, 10, 26, 11, 20, 11, 17, 8, 17, 9, 15, 19, 36, 42, 19, 12, 17, 15, 16, 11, 14, 14, 15, 13, 7, 14, 16, 10, 13, 15, 14, 11, 16, 9, 22, 21, 38, 12, 27, 9, 14, 16, 28, 9, 10, 16, 15, 6, 21, 20, 11, 14, 17, 14, 21, 12, 15, 7, 13, 23, 7, 18, 13, 21, 28, 19, 13, 29, 26, 19, 23, 12, 6, 14, 19, 10, 28, 11, 11, 15, 23, 21, 19, 9, 11, 20, 10, 19, 14, 16, 14, 13, 18, 11, 10, 11, 21, 13, 26, 24, 8, 17, 17, 12, 19, 13, 6, 19, 15, 19, 27, 9, 8, 30, 17, 15, 17, 16, 14, 16, 17, 14, 17, 28, 6, 22, 25, 16, 22, 15, 23, 17, 20, 29, 15, 10, 29, 10, 23, 15, 4, 25, 20, 13, 12, 14, 26, 5, 10, 15, 17, 13, 5, 21, 13, 10, 10, 17, 23, 17, 20, 22, 16, 16, 7, 27, 20, 9, 14, 19, 26, 12, 22, 11, 14, 15, 16, 18, 31, 15, 13, 15, 9, 9, 14, 30, 15, 20, 18, 6, 16, 10, 5, 11, 10, 12, 21, 18, 16, 13, 20, 17, 35, 12, 35, 15, 24, 16, 6, 17, 20, 26, 15, 23, 16, 13, 14, 17, 12, 36, 17, 16, 8, 11, 11, 18, 15, 12, 16, 8, 19, 27, 29, 9, 17, 7, 13, 27, 12, 42, 21, 8, 10, 19, 31, 10, 10, 13, 15, 10, 18, 7, 12, 36, 11, 9, 19, 21, 14, 20, 13, 20, 15, 10, 26, 26, 19, 26, 15, 10, 19, 14, 14, 11, 20, 16, 12, 35, 24, 17, 21, 35, 29, 15, 8, 15, 24, 12, 14, 16, 18, 11, 10, 14, 11, 9, 12, 15, 15, 12, 18, 13, 14, 7, 10, 38, 20, 14, 6, 10, 9, 18, 14, 10, 8, 13, 19, 18, 11, 23, 22, 16, 16, 13, 7, 23, 24, 10, 9, 17, 14, 15, 14, 10, 39, 8, 18, 17, 16, 23, 10, 17, 11, 23, 31, 16, 11, 4, 12, 11, 21, 19, 10, 10, 9, 27, 10, 26, 13, 6, 7, 23, 30, 18, 11, 12, 10, 32, 16, 18, 16, 15, 15, 13, 17, 11, 9, 18, 20, 27, 14, 20, 16, 13, 11, 20, 14, 8, 10, 9, 21, 12, 13, 21, 14, 13, 12, 41, 7, 22, 7, 32, 16, 12, 11, 9, 13, 17, 13, 8, 14, 13, 19, 8, 11, 17, 6, 7, 17, 24, 32, 19, 18, 20, 10, 18, 11, 10, 11, 20, 6, 10, 20, 13, 20, 13, 21, 24, 14, 20, 26, 21, 10, 12, 10, 21, 17, 21, 22, 14, 14, 8, 7, 18, 22, 21, 19, 31, 6, 16, 13, 19, 32, 18, 20, 19, 13, 14, 24, 6, 13, 44, 10, 12, 12, 5, 12, 11, 10, 13, 13, 17, 10, 14, 8, 17, 35, 13, 7, 15, 38, 6, 35, 23, 15, 24, 20, 23, 10, 20, 7, 33, 18, 18, 17, 23, 16, 20, 20, 10, 15, 8, 11, 26, 20, 15, 11, 14, 10, 12, 9, 11, 16, 11, 7, 9, 24, 21, 26, 25, 34, 19, 32, 22, 22, 7, 12, 33, 14, 21, 14, 14, 12, 27, 29, 21, 21, 15, 15, 13, 8, 15, 6, 14, 27, 33, 15, 11, 13, 12, 18, 16, 19, 13, 6, 21, 33, 11, 36, 18, 30, 17, 16, 11, 19, 12, 19, 14, 12, 9, 10, 17, 20, 18, 12, 12, 23, 18, 24, 19, 14, 17, 24, 7, 24, 29, 14, 8, 15, 23, 15, 37, 3, 14, 19, 17, 41, 10, 11, 16, 12, 24, 22, 9, 19, 26, 9, 21, 13, 24, 25, 6, 21, 20, 12, 15, 21, 8, 17, 17, 10, 13, 13, 14, 15, 16, 11, 23, 16, 9, 17, 31, 20, 37, 18, 21, 15, 11, 7, 29, 15, 24, 16, 12, 13, 13, 20, 60, 6, 17, 11, 22, 16, 22, 17, 17, 18, 15, 15, 17, 15, 24, 19, 15, 13, 33, 14, 10, 13, 9, 16, 12, 9, 24, 38, 19, 21, 25, 28, 10, 13, 15, 18, 9, 18, 21, 23, 22, 10, 12, 20, 13, 9, 11, 12, 13, 17, 10, 20, 14, 61, 19, 14, 9, 16, 18, 12, 18, 14, 17, 19, 15, 16, 21, 33, 8, 39, 12, 42, 16, 11, 12, 20, 30, 20, 20, 11, 23, 40, 40, 17, 16, 20, 41, 14, 13, 13, 21, 17, 11, 23, 11, 13, 30, 14, 17, 9, 14, 15, 43, 15, 12, 10, 13, 20, 15, 17, 22, 15, 24, 21, 29, 18, 19, 32, 12, 12, 47, 18, 9, 21, 28, 8, 13, 17, 15, 11, 10, 40, 16, 14, 11, 22, 33, 16, 30, 32, 17, 9, 11, 23, 27, 16, 10, 13, 4, 7, 16, 15, 18, 10, 18, 34, 5, 18, 22, 27, 13, 57, 18, 24, 12, 23, 10, 39, 19, 21, 11, 16, 10, 21, 15, 22, 19, 19, 10, 15, 39, 12, 18, 14, 10, 17, 18, 12, 13, 21, 28, 17, 20, 39, 20, 17, 13, 20, 11, 19, 21, 17, 20, 11, 15, 20, 42, 12, 13, 11, 17, 19, 13, 12, 13, 26, 33, 9, 13, 22, 14, 17, 17, 13, 18, 29, 11, 12, 29, 5, 18, 10, 16, 22, 25, 29, 31, 9, 11, 21, 17, 20, 14, 18, 8, 9, 16, 16, 11, 11, 33, 17, 18, 8, 29, 16, 9, 17, 12, 11, 9, 18, 16, 19, 12, 10, 12, 10, 8, 15, 17, 28, 19, 11, 15, 11, 12, 9, 22, 31, 16, 21, 16, 42, 37, 19, 12, 32, 12, 15, 10, 10, 16, 9, 20, 13, 31, 14, 13, 10, 16, 22, 22, 11, 12, 17, 39, 14, 28, 13, 28, 13, 19, 31, 20, 9, 17, 21, 30, 12, 16, 18, 30, 28, 8, 22, 12, 11, 14, 48, 10, 38, 19, 19, 13, 21, 5, 17, 10, 44, 19, 17, 10, 9, 19, 15, 15, 23, 38, 23, 20, 10, 8, 19, 13, 26, 6, 12, 19, 7, 30, 18, 12, 15, 31, 12, 8, 26, 9, 10, 12, 12, 10, 16, 13, 32, 14, 21, 21, 18, 32, 15, 32, 12, 17, 15, 25, 11, 20, 19, 11, 27, 14, 17, 26, 15, 12, 13, 13, 11, 22, 10, 7, 10, 20, 17, 21, 16, 11, 19, 9, 35, 20, 34, 10, 25, 17, 19, 17, 17, 20, 26, 12, 12, 16, 27, 7, 12, 37, 10, 25, 32, 36, 7, 22, 25, 26, 15, 12, 8, 25, 15, 19, 7, 11, 16, 15, 13, 14, 17, 7, 15, 18, 10, 28, 21, 15, 28, 23, 10, 12, 22, 7, 19, 11, 13, 18, 8, 5, 29, 12, 21, 11, 18, 14, 32, 28, 17, 16, 14, 8, 15, 7, 27, 7, 28, 19, 9, 15, 18, 6, 7, 12, 36, 13, 16, 10, 15, 17, 16, 14, 39, 11, 14, 17, 12, 13, 24, 13, 12, 20, 17, 14, 10, 8, 12, 7, 11, 10, 37, 8, 23, 14, 14, 19, 11, 13, 15, 15, 23, 28, 21, 24, 23, 16, 22, 19, 17, 10, 11, 10, 13, 7, 26, 30, 22, 16, 9, 29, 21, 9, 6, 21, 23, 25, 20, 17, 12, 12, 11, 11, 20, 16, 24, 10, 22, 16, 7, 17, 26, 20, 16, 18, 30, 9, 24, 18, 15, 15, 8, 20, 24, 19, 15, 9, 20, 13, 12, 20, 18, 19, 19, 10, 7, 21, 15, 17, 16, 23, 20, 22, 19, 12, 22, 17, 9, 9, 13, 27, 11, 45, 12, 10, 25, 17, 10, 5, 41, 26, 15, 32, 13, 12, 11, 44, 11, 10, 11, 25, 16, 10, 19, 18, 28, 20, 13, 13, 20, 8, 17, 13, 20, 23, 28, 14, 12, 14, 20, 30, 31, 13, 15, 11, 12, 16, 11, 11, 30, 22, 17, 16, 13, 13, 23, 13, 18, 16, 32, 24, 11, 10, 5, 85, 16, 37, 28, 28, 13, 18, 32, 11, 45, 28, 37, 10, 9, 12, 12, 22, 14, 22, 23, 49, 14, 11, 7, 7, 10, 9, 13, 10, 20, 21, 13, 14, 23, 6, 11, 19, 14, 18, 16, 17, 12, 25, 17, 31, 22, 10, 9, 15, 16, 21, 13, 11, 14, 18, 9, 11, 34, 12, 11, 8, 19, 18, 15, 17, 27, 18, 13, 12, 16, 29, 15, 20, 22, 16, 17, 12, 13, 10, 11, 12, 10, 20, 8, 24, 13, 14, 8, 16, 12, 16, 12, 8, 14, 33, 15, 10, 10, 11, 6, 11, 22, 14, 27, 23, 14, 24, 9, 21, 35, 16, 16, 5, 15, 14, 15, 6, 39, 38, 19, 19, 11, 18, 17, 34, 14, 16, 31, 19, 17, 6, 17, 24, 17, 16, 17, 16, 9, 43, 17, 13, 23, 15, 14, 23, 20, 15, 25, 13, 11, 15, 12, 12, 18, 44, 19, 24, 17, 28, 14, 10, 14, 10, 15, 10, 11, 26, 25, 10, 16, 16, 17, 15, 12, 13, 13, 13, 27, 14, 22, 13, 8, 7, 18, 19, 12, 28, 7, 15, 20, 8, 12, 23, 6, 16, 7, 21, 6, 14, 14, 24, 8, 9, 11, 8, 9, 19, 12, 18, 9, 9, 32, 17, 19, 7, 35, 25, 18, 12, 9, 20, 18, 23, 22, 6, 11, 29, 13, 11, 13, 24, 14, 20, 23, 14, 17, 13, 26, 8, 9, 13, 31, 10, 24, 14, 7, 12, 26, 22, 20, 20, 14, 6, 28, 18, 25, 21, 20, 20, 7, 38, 28, 16, 27, 23, 19, 21, 17, 32, 11, 13, 19, 24, 15, 16, 8, 24, 26, 18, 12, 7, 16, 21, 28, 18, 21, 17, 13, 21, 19, 21, 56, 7, 21, 10, 9, 9, 18, 12, 10, 11, 18, 26, 29, 12, 15, 8, 18, 27, 18, 18, 11, 16, 19, 11, 33, 17, 6, 11, 9, 12, 11, 15, 16, 14, 15, 16, 21, 12, 18, 21, 36, 17, 25, 15, 27, 18, 13, 11, 19, 12, 14, 41, 14, 18, 12, 11, 11, 16, 25, 16, 19, 21, 16, 28, 8, 10, 45, 44, 19, 14, 15, 16, 16, 13, 9, 12, 11, 21, 18, 14, 30, 21, 15, 28, 15, 21, 16, 13, 16, 22, 27, 14, 20, 12, 12, 11, 15, 28, 16, 25, 21, 26, 22, 20, 19, 20, 20, 20, 9, 20, 10, 24, 9, 14, 7, 17, 10, 35, 17, 8, 20, 14, 16, 20, 13, 10, 12, 12, 7, 20, 16, 10, 14, 9, 20, 30, 10, 17, 24, 21, 8, 19, 25, 24, 10, 16, 16, 23, 20, 32, 12, 9, 24, 21, 47, 22, 23, 12, 13, 18, 28, 13, 17, 14, 22, 10, 16, 15, 13, 17, 16, 14, 10, 12, 22, 24, 15, 17, 23, 22, 5, 6, 12, 12, 6, 44, 13, 4, 12, 15, 11, 18, 24, 11, 27, 7, 10, 10, 16, 33, 17, 10, 11, 19, 18, 32, 10, 20, 40, 27, 16, 16, 20, 14, 6, 21, 22, 12, 14, 23, 24, 32, 20, 19, 13, 14, 9, 13, 22, 36, 18, 14, 6, 14, 20, 18, 18, 12, 33, 28, 10, 9, 14, 9, 33, 14, 43, 11, 7, 14, 12, 11, 8, 16, 12, 9, 25, 10, 28, 15, 7, 24, 24, 10, 10, 10, 16, 42, 11, 21, 22, 12, 13, 17, 10, 36, 23, 13, 7, 20, 17, 13, 24, 32, 27, 10, 11, 15, 12, 25, 11, 17, 18, 9, 10, 24, 11, 23, 22, 8, 12, 12, 13, 10, 28, 10, 18, 18, 35, 8, 6, 14, 6, 8, 9, 23, 15, 26, 19, 7, 10, 24, 34, 8, 24, 6, 26, 25, 15, 10, 23, 20, 8, 17, 14, 10, 20, 24, 10, 36, 15, 16, 7, 36, 13, 20, 17, 11, 12, 14, 15, 13, 20, 18, 18, 8, 30, 25, 14, 14, 10, 20, 10, 14, 10, 16, 9, 9, 9, 15, 8, 18, 10, 29, 38, 12, 10, 18, 21, 3, 27, 20, 22, 19, 13, 15, 7, 20, 5, 11, 24, 18, 23, 10, 23, 28, 22, 20, 20, 22, 11, 16, 48, 20, 19, 12, 9, 9, 13, 26, 16, 10, 8, 13, 24, 20, 17, 18, 12, 15, 18, 34, 9, 32, 22, 28, 10, 9, 7, 19, 22, 17, 8, 19, 36, 7, 20, 26, 12, 24, 9, 23, 19, 15, 15, 15, 12, 9, 11, 17, 26, 12, 17, 13, 10, 9, 39, 33, 17, 18, 26, 9, 12, 17, 15, 5, 18, 27, 33, 23, 22, 13, 12, 10, 18, 13, 14, 20, 10, 17, 11, 13, 11, 21, 10, 13, 20, 43, 14, 19, 20, 16, 15, 16, 20, 13, 11, 18, 12, 16, 13, 13, 15, 25, 11, 31, 19, 11, 7, 20, 8, 18, 33, 12, 12, 8, 19, 15, 8, 9, 19, 12, 21, 8, 19, 12, 13, 16, 22, 21, 12, 12, 11, 16, 17, 13, 11, 32, 12, 18, 26, 22, 11, 8, 23, 35, 25, 27, 13, 43, 15, 14, 12, 12, 14, 21, 17, 20, 10, 8, 26, 32, 24, 16, 18, 19, 28, 18, 11, 17, 30, 10, 9, 15, 15, 13, 16, 21, 9, 7, 17, 9, 33, 8, 13, 19, 13, 23, 7, 13, 9, 18, 7, 30, 14, 21, 13, 11, 15, 12, 14, 14, 7, 20, 13, 35, 15, 13, 16, 17, 24, 9, 13, 14, 20, 16, 5, 19, 40, 17, 8, 15, 10, 17, 13, 28, 26, 15, 10, 16, 19, 12, 7, 18, 14, 42, 23, 25, 18, 40, 14, 17, 9, 7, 39, 12, 15, 13, 10, 15, 12, 13, 10, 14, 10, 9, 50, 9, 13, 17, 11, 13, 7, 17, 33, 25, 16, 11, 25, 28, 14, 18, 14, 12, 20, 8, 22, 13, 18, 16, 22, 13, 35, 7, 9, 11, 21, 17, 7, 24, 33, 24, 15, 16, 21, 12, 13, 9, 17, 15, 17, 40, 36, 13, 8, 13, 23, 6, 16, 9, 14, 13, 22, 11, 14, 9, 26, 14, 28, 18, 36, 13, 17, 21, 13, 20, 16, 10, 23, 16, 6, 25, 13, 11, 31, 13, 12, 7, 7, 31, 42, 9, 15, 18, 12, 15, 33, 21, 15, 20, 11, 21, 14, 23, 17, 14, 10, 25, 6, 17, 20, 24, 9, 22, 13, 9, 13, 7, 14, 16, 15, 12, 10, 10, 16, 13, 14, 16, 6, 16, 22, 15, 12, 20, 11, 12, 16, 18, 13, 19, 19, 18, 28, 8, 11, 11, 19, 13, 29, 16, 13, 27, 13, 24, 21, 38, 6, 13, 9, 23, 12, 15, 9, 9, 19, 14, 31, 20, 19, 20, 19, 14, 20, 26, 24, 12, 9, 7, 19, 12, 14, 29, 22, 17, 11, 18, 14, 15, 11, 32, 23, 8, 15, 7, 17, 10, 15, 18, 6, 9, 21, 9, 7, 12, 55, 12, 28, 20, 23, 23, 21, 16, 18, 7, 32, 11, 22, 18, 13, 11, 14, 17, 10, 18, 17, 29, 4, 20, 22, 6, 19, 7, 12, 42, 10, 32, 10, 15, 9, 9, 16, 17, 19, 31, 22, 10, 8, 9, 17, 36, 14, 17, 29, 17, 12, 14, 10, 20, 46, 27, 14, 17, 14, 22, 13, 16, 14, 15, 14, 25, 15, 21, 27, 13, 8, 45, 9, 16, 11, 18, 13, 11, 9, 21, 14, 12, 17, 21, 27, 27, 17, 17, 17, 11, 27, 16, 14, 25, 16, 43, 17, 20, 14, 32, 20, 13, 7, 14, 14, 7, 12, 11, 10, 21, 14, 18, 12, 21, 10, 19, 19, 14, 11, 20, 15, 18, 30, 22, 16, 11, 13, 9, 18, 11, 18, 28, 7, 9, 21, 13, 6, 10, 12, 16, 12, 20, 13, 10, 14, 6, 17, 9, 21, 9, 24, 13, 10, 13, 12, 19, 15, 22, 8, 21, 20, 12, 23, 7, 45, 10, 27, 23, 10, 32, 36, 9, 30, 38, 18, 20, 20, 9, 8, 11, 14, 18, 15, 26, 18, 13, 16, 19, 6, 18, 3, 20, 10, 13, 13, 14, 12, 50, 26, 17, 39, 21, 19, 31, 11, 42, 18, 7, 19, 11, 19, 11, 17, 19, 23, 19, 20, 19, 20, 8, 25, 18, 14, 24, 5, 15, 24, 30, 6, 6, 28, 44, 21, 17, 14, 35, 20, 22, 20, 13, 15, 15, 20, 13, 15, 12, 16, 35, 15, 18, 19, 30, 17, 25, 15, 8, 13, 8, 11, 10, 13, 26, 9, 13, 13, 32, 23, 11, 19, 12, 12, 15, 22, 20, 13, 15, 22, 17, 13, 24, 30, 14, 13, 15, 8, 40, 14, 15, 17, 24, 31, 29, 19, 17, 13, 7, 14, 9, 19, 16, 14, 17, 16, 17, 29, 30, 11, 11, 30, 7, 21, 12, 7, 10, 17, 14, 22, 11, 6, 21, 16, 17, 14, 8, 12, 14, 12, 7, 33, 49, 14, 9, 34, 15, 13, 12, 12, 13, 5, 7, 5, 21, 28, 31, 13, 17, 9, 22, 26, 21, 12, 28, 24, 16, 8, 19, 27, 31, 16, 19, 9, 26, 24, 11, 18, 30, 27, 9, 7, 20, 10, 11, 12, 13, 20, 16, 17, 15, 19, 25, 7, 20, 12, 11, 17, 12, 21, 13, 13, 13, 11, 12, 9, 16, 23, 8, 18, 30, 13, 5, 15, 8, 20, 15, 19, 7, 22, 14, 7, 22, 20, 12, 33, 35, 14, 19, 23, 9, 37, 6, 13, 15, 16, 10, 16, 12, 21, 18, 9, 23, 9, 20, 15, 14, 15, 20, 12, 15, 10, 12, 16, 18, 9, 21, 17, 16, 11, 18, 8, 19, 20, 13, 27, 15, 17, 8, 8, 11, 19, 15, 19, 26, 17, 7, 14, 13, 11, 19, 13, 12, 11, 16, 10, 18, 14, 8, 24, 6, 41, 16, 39, 14, 13, 17, 14, 23, 13, 8, 7, 10, 13, 15, 9, 15, 10, 19, 7, 15, 18, 25, 11, 17, 34, 6, 21, 11, 7, 14, 12, 11, 23, 15, 30, 23, 19, 23, 13, 47, 20, 11, 10, 33, 23, 32, 9, 23, 38, 30, 17, 13, 15, 38, 14, 30, 11, 14, 14, 14, 23, 10, 27, 11, 12, 17, 15, 13, 23, 24, 32, 7, 14, 9, 28, 13, 37, 25, 25, 16, 40, 12, 10, 12, 8, 11, 22, 6, 8, 16, 21, 11, 9, 20, 11, 21, 22, 14, 23, 16, 37, 13, 23, 14, 12, 14, 14, 12, 13, 9, 30, 21, 14, 13, 11, 20, 88, 33, 13, 21, 26, 18, 9, 8, 12, 18, 14, 17, 23, 13, 20, 10, 14, 10, 14, 21, 11, 15, 18, 41, 18, 20, 19, 22, 13, 20, 12, 19, 16, 11, 17, 17, 36, 5, 9, 13, 22, 15, 12, 18, 14, 21, 25, 17, 23, 14, 20, 36, 36, 5, 28, 22, 14, 16, 14, 12, 13, 12, 15, 20, 21, 54, 12, 6, 31, 34, 20, 27, 27, 9, 14, 7, 16, 7, 11, 16, 7, 11, 23, 17, 16, 16, 12, 23, 11, 17, 13, 26, 10, 23, 8, 26, 34, 20, 17, 14, 24, 6, 22, 18, 29, 29, 7, 8, 12, 7, 21, 11, 13, 12, 23, 27, 38, 9, 12, 73, 23, 29, 30, 8, 16, 14, 21, 12, 13, 11, 28, 15, 19, 15, 15, 10, 23, 15, 19, 26, 33, 12, 21, 35, 13, 9, 14, 12, 34, 8, 10, 19, 49, 17, 29, 22, 27, 15, 20, 13, 15, 19, 8, 12, 7, 20, 24, 25, 25, 25, 11, 20, 16, 20, 51, 21, 20, 31, 8, 12, 18, 8, 11, 7, 17, 33, 14, 18, 10, 11, 29, 9, 17, 10, 19, 24, 35, 9, 18, 13, 30, 15, 35, 14, 48, 18, 51, 22, 28, 12, 14, 11, 29, 8, 11, 12, 16, 8, 27, 27, 13, 11, 16, 19, 13, 26, 70, 27, 29, 35, 13, 15, 7, 30, 24, 25, 15, 19, 9, 29, 24, 23, 14, 5, 18, 41, 21, 36, 16, 22, 14, 19, 14, 5, 28, 23, 26, 17, 9, 10, 9, 17, 12, 18, 21, 21, 18, 13, 18, 10, 12, 30, 6, 25, 23, 34, 22, 12, 9, 13, 11, 10, 13, 17, 29, 16, 13, 14, 13, 11, 11, 35, 10, 9, 14, 15, 18, 11, 11, 22, 7, 11, 9, 23, 20, 12, 38, 15, 28, 20, 14, 18, 11, 14, 9, 14, 33, 15, 9, 23, 15, 12, 15, 31, 19, 37, 31, 42, 17, 14, 23, 12, 34, 16, 37, 24, 11, 19, 16, 81, 15, 9, 24, 18, 10, 13, 19, 9, 25, 39, 25, 26, 5, 16, 14, 21, 31, 17, 21, 24, 21, 23, 10, 16, 15, 32, 19, 16, 29, 20, 22, 3, 23, 21, 15, 33, 12, 11, 10, 24, 19, 17, 12, 18, 24, 28, 20, 38, 21, 26, 22, 17, 23, 12, 12, 36, 16, 7, 17, 9, 11, 12, 13, 13, 8, 19, 12, 18, 10, 15, 16, 14, 18, 32, 16, 23, 19, 15, 19, 11, 14, 12, 14, 22, 6, 20, 26, 15, 14, 22, 21, 21, 16, 30, 43, 14, 12, 6, 14, 6, 30, 9, 20, 23, 10, 12, 11, 7, 28, 11, 30, 18, 20, 23, 68, 13, 23, 27, 22, 10, 30, 24, 18, 10, 16, 20, 14, 12, 16, 18, 9, 10, 21, 21, 16, 6, 19, 18, 6, 16, 12, 18, 7, 17, 11, 34, 29, 13, 25, 20, 24, 12, 14, 9, 16, 13, 15, 13, 8, 8, 17, 19, 17, 20, 13, 19, 14, 30, 27, 12, 11, 14, 19, 18, 7, 12, 8, 13, 6, 6, 26, 25, 14, 20, 15, 15, 14, 22, 26, 18, 23, 15, 21, 14, 12, 15, 20, 10, 11, 21, 8, 19, 35, 54, 23, 30, 11, 16, 12, 16, 29, 14, 30, 6, 11, 13, 6, 9, 8, 25, 8, 11, 14, 13, 18, 12, 12, 22, 13, 30, 7, 11, 8, 9, 25, 11, 26, 15, 14, 16, 15, 33, 31, 25, 15, 17, 20, 24, 14, 22, 11, 19, 7, 12, 11, 24, 18, 19, 16, 10, 16, 18, 7, 43, 8, 10, 18, 12, 19, 13, 13, 14, 18, 60, 15, 22, 14, 52, 8, 6, 16, 20, 10, 18, 17, 23, 13, 30, 25, 11, 17, 30, 13, 17, 28, 14, 12, 15, 20, 21, 32, 26, 12, 42, 26, 27, 19, 26, 15, 14, 32, 41, 16, 13, 55, 14, 20, 10, 19, 11, 21, 20, 33, 14, 22, 20, 11, 19, 30, 12, 25, 23, 16, 25, 8, 9, 18, 50, 10, 21, 15, 8, 17, 12, 37, 17, 24, 11, 11, 14, 14, 23, 10, 21, 13, 14, 21, 17, 14, 9, 16, 13, 16, 16, 24, 19, 24, 22, 12, 21, 19, 17, 11, 18, 18, 9, 16, 27, 12, 13, 18, 13, 22, 52, 14, 15, 26, 6, 29, 29, 10, 12, 17, 12, 11, 13, 26, 13, 17, 6, 28, 23, 6, 5, 21, 14, 11, 11, 12, 17, 12, 17, 16, 16, 20, 9, 18, 6, 9, 18, 31, 30, 9, 10, 22, 20, 34, 16, 19, 3, 30, 17, 14, 13, 23, 14, 9, 10, 30, 7, 11, 20, 27, 26, 21, 21, 4, 24, 20, 9, 21, 16, 19, 15, 13, 35, 16, 9, 6, 18, 15, 26, 16, 30, 27, 28, 9, 10, 12, 12, 26, 19, 22, 25, 22, 18, 19, 19, 26, 19, 23, 24, 19, 13, 12, 32, 19, 12, 14, 30, 24, 15, 23, 9, 13, 10, 19, 32, 28, 39, 4, 29, 10, 12, 15, 8, 17, 29, 14, 23, 10, 23, 13, 10, 16, 9, 15, 10, 21, 15, 12, 22, 23, 14, 19, 29, 27, 16, 16, 16, 20, 25, 21, 35, 14, 8, 16, 13, 23, 10, 8, 9, 9, 13, 11, 10, 8, 12, 17, 22, 18, 26, 16, 7, 12, 13, 10, 16, 30, 6, 8, 8, 13, 17, 11, 25, 27, 22, 18, 19]\n"
     ]
    }
   ],
   "source": [
    "names=[]\n",
    "for ix in data:\n",
    "    names.append(len(ix))\n",
    "print len(names)          #we get the number of rows\n",
    "print names"
   ]
  },
  {
   "cell_type": "code",
   "execution_count": 8,
   "metadata": {
    "collapsed": false
   },
   "outputs": [
    {
     "name": "stdout",
     "output_type": "stream",
     "text": [
      "(5043,) <type 'tuple'>\n",
      "3 88\n",
      "1667 4133\n"
     ]
    }
   ],
   "source": [
    "names=np.asarray(names)\n",
    "print names.shape,type(names.shape)\n",
    "print names.min(),names.max()\n",
    "print names.argmin(),names.argmax()"
   ]
  },
  {
   "cell_type": "code",
   "execution_count": 9,
   "metadata": {
    "collapsed": false
   },
   "outputs": [
    {
     "name": "stdout",
     "output_type": "stream",
     "text": [
      "{3: 5, 4: 8, 5: 35, 6: 91, 7: 137, 8: 138, 9: 226, 10: 266, 11: 297, 12: 328, 13: 328, 14: 307, 15: 275, 16: 283, 17: 264, 18: 238, 19: 219, 20: 214, 21: 177, 22: 137, 23: 139, 24: 109, 25: 85, 26: 82, 27: 73, 28: 70, 29: 51, 30: 65, 31: 36, 32: 47, 33: 43, 34: 21, 35: 31, 36: 30, 37: 20, 38: 19, 39: 24, 40: 13, 41: 14, 42: 17, 43: 13, 44: 9, 45: 9, 46: 4, 47: 7, 48: 4, 49: 4, 50: 4, 51: 3, 52: 5, 54: 2, 55: 2, 56: 3, 57: 1, 58: 1, 60: 2, 61: 1, 64: 1, 68: 1, 70: 1, 73: 1, 81: 1, 85: 1, 88: 1}\n"
     ]
    }
   ],
   "source": [
    "freq={}             #freq will serve as a dictionary\n",
    "for fx in range(names.shape[0]):\n",
    "    #print names[fx]\n",
    "    try:\n",
    "        freq[names[fx]]+=1\n",
    "    except:\n",
    "        freq[names[fx]]=1\n",
    "print freq"
   ]
  },
  {
   "cell_type": "code",
   "execution_count": 10,
   "metadata": {
    "collapsed": false
   },
   "outputs": [
    {
     "data": {
      "image/png": "[encoded data removed]",
      "text/plain": [
       "<matplotlib.figure.Figure at 0x7fa1b88ed610>"
      ]
     },
     "metadata": {},
     "output_type": "display_data"
    },
    {
     "name": "stdout",
     "output_type": "stream",
     "text": [
      "36.015625\n",
      "17.5542335911\n"
     ]
    }
   ],
   "source": [
    "plt.figure(0)\n",
    "plt.plot(freq.values())\n",
    "plt.show()\n",
    "print np.mean(freq.keys())             #considers each length only once\n",
    "print names.mean()                     #this is almost correct since our data is not evenly distributed"
   ]
  },
  {
   "cell_type": "code",
   "execution_count": 11,
   "metadata": {
    "collapsed": false
   },
   "outputs": [
    {
     "name": "stdout",
     "output_type": "stream",
     "text": [
      "17.5542335911 73.3769417237 8.5660341888\n",
      "17.5542335911 73.3769417237 8.5660341888\n"
     ]
    }
   ],
   "source": [
    "m=0.0\n",
    "s=0.0\n",
    "for ix in range(names.shape[0]):\n",
    "    m+=names[ix];\n",
    "mu=m/float(names.shape[0])\n",
    "\n",
    "for ix in range(names.shape[0]):\n",
    "    s+=(names[ix]-mu)**2\n",
    "sigma_sq=s/float(names.shape[0])\n",
    "\n",
    "print mu,sigma_sq,np.sqrt(sigma_sq)\n",
    "print names.mean(),names.std()**2,names.std()"
   ]
  },
  {
   "cell_type": "code",
   "execution_count": null,
   "metadata": {
    "collapsed": true
   },
   "outputs": [],
   "source": []
  }
 ],
 "metadata": {
  "kernelspec": {
   "display_name": "Python 2",
   "language": "python",
   "name": "python2"
  },
  "language_info": {
   "codemirror_mode": {
    "name": "ipython",
    "version": 2
   },
   "file_extension": ".py",
   "mimetype": "text/x-python",
   "name": "python",
   "nbconvert_exporter": "python",
   "pygments_lexer": "ipython2",
   "version": "2.7.12"
  }
 },
 "nbformat": 4,
 "nbformat_minor": 2
}
