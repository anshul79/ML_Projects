{
 "cells": [
  {
   "cell_type": "code",
   "execution_count": 3,
   "metadata": {
    "collapsed": true
   },
   "outputs": [],
   "source": [
    "import numpy as np\n",
    "import pandas as pd\n",
    "from matplotlib import pyplot as plt\n",
    "%matplotlib inline"
   ]
  },
  {
   "cell_type": "code",
   "execution_count": 4,
   "metadata": {},
   "outputs": [
    {
     "name": "stdout",
     "output_type": "stream",
     "text": [
      "(42000, 785)\n",
      "   label  pixel0  pixel1  pixel2  pixel3  pixel4  pixel5  pixel6  pixel7  \\\n",
      "0      1       0       0       0       0       0       0       0       0   \n",
      "1      0       0       0       0       0       0       0       0       0   \n",
      "2      1       0       0       0       0       0       0       0       0   \n",
      "3      4       0       0       0       0       0       0       0       0   \n",
      "4      0       0       0       0       0       0       0       0       0   \n",
      "\n",
      "   pixel8    ...     pixel774  pixel775  pixel776  pixel777  pixel778  \\\n",
      "0       0    ...            0         0         0         0         0   \n",
      "1       0    ...            0         0         0         0         0   \n",
      "2       0    ...            0         0         0         0         0   \n",
      "3       0    ...            0         0         0         0         0   \n",
      "4       0    ...            0         0         0         0         0   \n",
      "\n",
      "   pixel779  pixel780  pixel781  pixel782  pixel783  \n",
      "0         0         0         0         0         0  \n",
      "1         0         0         0         0         0  \n",
      "2         0         0         0         0         0  \n",
      "3         0         0         0         0         0  \n",
      "4         0         0         0         0         0  \n",
      "\n",
      "[5 rows x 785 columns]\n"
     ]
    }
   ],
   "source": [
    "ds=pd.read_csv('./mnist_data/train.csv')\n",
    "print ds.shape\n",
    "print ds.head(n=5)"
   ]
  },
  {
   "cell_type": "code",
   "execution_count": 5,
   "metadata": {},
   "outputs": [
    {
     "name": "stdout",
     "output_type": "stream",
     "text": [
      "(42000L, 785L)\n",
      "(42000L,) (42000L, 784L)\n"
     ]
    },
    {
     "data": {
      "image/png": "[encoded data removed]",
      "text/plain": [
       "<matplotlib.figure.Figure at 0x971fc50>"
      ]
     },
     "metadata": {},
     "output_type": "display_data"
    },
    {
     "name": "stdout",
     "output_type": "stream",
     "text": [
      "8\n"
     ]
    }
   ],
   "source": [
    "data=ds.values\n",
    "print data.shape\n",
    "y_train=data[:,0]\n",
    "X_train=data[:,1:]\n",
    "print y_train.shape, X_train.shape\n",
    "\n",
    "plt.figure(0)\n",
    "plt.imshow(X_train[1204].reshape((28,28)),cmap='gray')\n",
    "plt.show()\n",
    "print y_train[1204]"
   ]
  },
  {
   "cell_type": "code",
   "execution_count": 6,
   "metadata": {
    "collapsed": true
   },
   "outputs": [],
   "source": [
    "def dist(x1,x2):\n",
    "    return np.sqrt(((x1-x2)**2).sum());\n",
    "\n",
    "#Manhatton distance\n",
    "def dist2(x1,x2):\n",
    "    return abs(x1-x2).sum();\n",
    "\n",
    "#Hellinger distance\n",
    "def dist3(x1,x2):\n",
    "    f=0.5*((np.sqrt(x1)-np.sqrt(x2))**2).sum();\n",
    "    return np.sqrt(f);"
   ]
  },
  {
   "cell_type": "code",
   "execution_count": 7,
   "metadata": {
    "collapsed": true
   },
   "outputs": [],
   "source": [
    "def knn(X_train,x,y_train,k=5):\n",
    "    vals=[]\n",
    "    for ix in range(X_train.shape[0]):\n",
    "        v=[dist2(x,X_train[ix,:]), y_train[ix]]\n",
    "        vals.append(v)\n",
    "    updated_vals=sorted(vals,key=lambda x:x[0])\n",
    "    pred_arr=np.asarray(updated_vals[:k])\n",
    "    pred_arr=np.unique(pred_arr,return_counts=True)\n",
    "    pred=pred_arr[1].argmax()\n",
    "    return pred_arr[0][pred]"
   ]
  },
  {
   "cell_type": "code",
   "execution_count": 8,
   "metadata": {},
   "outputs": [
    {
     "name": "stdout",
     "output_type": "stream",
     "text": [
      "2\n",
      "2\n"
     ]
    },
    {
     "data": {
      "image/png": "[encoded data removed]",
      "text/plain": [
       "<matplotlib.figure.Figure at 0x9c4cfd0>"
      ]
     },
     "metadata": {},
     "output_type": "display_data"
    }
   ],
   "source": [
    "idq=int(np.random.random()*X_train.shape[0])\n",
    "q=X_train[idq]\n",
    "\n",
    "res=knn(X_train[:10000],q,y_train,k=7)\n",
    "print res\n",
    "print y_train[idq]\n",
    "\n",
    "plt.figure(0)\n",
    "plt.imshow(q.reshape((28,28)),cmap='gray')\n",
    "plt.show()"
   ]
  },
  {
   "cell_type": "code",
   "execution_count": 12,
   "metadata": {},
   "outputs": [
    {
     "name": "stdout",
     "output_type": "stream",
     "text": [
      "99.98 %\n"
     ]
    }
   ],
   "source": [
    "#Calculate accuracy\n",
    "for idq in range(10000,15000):\n",
    "    q=X_train[idq]\n",
    "    res=knn(X_train[10000:15000],q,y_train,k=7)\n",
    "    count=0\n",
    "    if res!=y_train[idq]:\n",
    "        count=count+1\n",
    "accuracy=(count/5000.0)*100\n",
    "print 100-accuracy,'%'"
   ]
  },
  {
   "cell_type": "code",
   "execution_count": null,
   "metadata": {
    "collapsed": true
   },
   "outputs": [],
   "source": []
  },
  {
   "cell_type": "code",
   "execution_count": null,
   "metadata": {
    "collapsed": true
   },
   "outputs": [],
   "source": []
  }
 ],
 "metadata": {
  "kernelspec": {
   "display_name": "Python 2",
   "language": "python",
   "name": "python2"
  },
  "language_info": {
   "codemirror_mode": {
    "name": "ipython",
    "version": 2
   },
   "file_extension": ".py",
   "mimetype": "text/x-python",
   "name": "python",
   "nbconvert_exporter": "python",
   "pygments_lexer": "ipython2",
   "version": "2.7.13"
  }
 },
 "nbformat": 4,
 "nbformat_minor": 2
}
