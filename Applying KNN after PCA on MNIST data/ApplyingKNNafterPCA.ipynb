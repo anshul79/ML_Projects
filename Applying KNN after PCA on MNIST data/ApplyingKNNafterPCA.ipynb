{
 "cells": [
  {
   "cell_type": "code",
   "execution_count": 2,
   "metadata": {
    "collapsed": false
   },
   "outputs": [],
   "source": [
    "import numpy as np\n",
    "import pandas as pd\n",
    "from matplotlib import pyplot as plt\n",
    "%matplotlib inline\n",
    "\n",
    "import sklearn\n",
    "from sklearn.decomposition import PCA\n",
    "import datetime"
   ]
  },
  {
   "cell_type": "code",
   "execution_count": 31,
   "metadata": {
    "collapsed": true
   },
   "outputs": [],
   "source": [
    "def dist(x1,x2):\n",
    "    return abs(x1-x2).sum();"
   ]
  },
  {
   "cell_type": "code",
   "execution_count": 32,
   "metadata": {
    "collapsed": true
   },
   "outputs": [],
   "source": [
    "def knn(X_train,x,y_train,k=5):\n",
    "    vals=[]\n",
    "    for ix in range(X_train.shape[0]):\n",
    "        v=[dist(x,X_train[ix,:]), y_train[ix]]\n",
    "        vals.append(v)\n",
    "    updated_vals=sorted(vals,key=lambda x:x[0])\n",
    "    pred_arr=np.asarray(updated_vals[:k])\n",
    "    pred_arr=np.unique(pred_arr,return_counts=True)\n",
    "    pred=pred_arr[1].argmax()\n",
    "    return pred_arr[0][pred]"
   ]
  },
  {
   "cell_type": "code",
   "execution_count": 33,
   "metadata": {
    "collapsed": false
   },
   "outputs": [],
   "source": [
    "ds_test=pd.read_csv('mnist_data/train.csv')\n",
    "data = ds_test.values[:, 1:]\n",
    "labels = ds_test.values[:, 0]\n",
    "data_std = (data - data.mean(axis=0))/(data.std(axis=0)+1e-03)"
   ]
  },
  {
   "cell_type": "code",
   "execution_count": 40,
   "metadata": {
    "collapsed": false
   },
   "outputs": [
    {
     "name": "stdout",
     "output_type": "stream",
     "text": [
      "9.79 %\n",
      "0:17:38.703267\n"
     ]
    }
   ],
   "source": [
    "start = datetime.datetime.now()\n",
    "#idq=int(np.random.random()*data.shape[0])\n",
    "#q=data[idq]\n",
    "count=0\n",
    "for i in range(10000,20000):\n",
    "    res=knn(data_std[10000:20000],i,labels[10000:20000],k=7)\n",
    "    if res==labels[i]:\n",
    "        count=count+1\n",
    "#print res\n",
    "#print labels[idq]\n",
    "accuracy=(count/10000.0)*100\n",
    "print accuracy,'%'\n",
    "print datetime.datetime.now() - start"
   ]
  },
  {
   "cell_type": "code",
   "execution_count": 41,
   "metadata": {
    "collapsed": false
   },
   "outputs": [
    {
     "name": "stdout",
     "output_type": "stream",
     "text": [
      "(42000, 319)\n",
      "9.79 %\n",
      "0:11:11.916026\n"
     ]
    }
   ],
   "source": [
    "start = datetime.datetime.now()\n",
    "pca = PCA(n_components=319)\n",
    "X = pca.fit_transform(data_std)\n",
    "print X.shape\n",
    "#idq=int(np.random.random()*X.shape[0])\n",
    "#q=X[idq]\n",
    "count=0\n",
    "for i in range(10000,20000):\n",
    "    res=knn(X[10000:20000],i,labels[10000:20000],k=7)\n",
    "    if res==labels[i]:\n",
    "        count=count+1\n",
    "#print res\n",
    "#print labels[idq]\n",
    "accuracy=(count/10000.0)*100\n",
    "print accuracy,'%'\n",
    "print datetime.datetime.now() - start"
   ]
  },
  {
   "cell_type": "code",
   "execution_count": null,
   "metadata": {
    "collapsed": true
   },
   "outputs": [],
   "source": []
  }
 ],
 "metadata": {
  "kernelspec": {
   "display_name": "Python 2",
   "language": "python",
   "name": "python2"
  },
  "language_info": {
   "codemirror_mode": {
    "name": "ipython",
    "version": 2
   },
   "file_extension": ".py",
   "mimetype": "text/x-python",
   "name": "python",
   "nbconvert_exporter": "python",
   "pygments_lexer": "ipython2",
   "version": "2.7.12"
  }
 },
 "nbformat": 4,
 "nbformat_minor": 2
}
